{
 "cells": [
  {
   "cell_type": "code",
   "execution_count": null,
   "metadata": {
    "colab": {
     "base_uri": "https://localhost:8080/",
     "height": 34
    },
    "executionInfo": {
     "elapsed": 17296,
     "status": "ok",
     "timestamp": 1749249969028,
     "user": {
      "displayName": "Nelkon Gyamfi",
      "userId": "06806577076404671243"
     },
     "user_tz": 0
    },
    "id": "cVnXOPy8XNjn",
    "outputId": "1e43e6d3-b70c-48ac-da8c-11a1b64fb4e7"
   },
   "outputs": [
    {
     "name": "stdout",
     "output_type": "stream",
     "text": [
      "\u001b[?25l   \u001b[90m━━━━━━━━━━━━━━━━━━━━━━━━━━━━━━━━━━━━━━━━\u001b[0m \u001b[32m0.0/1.6 MB\u001b[0m \u001b[31m?\u001b[0m eta \u001b[36m-:--:--\u001b[0m\r",
      "\u001b[2K   \u001b[91m━━━━━━\u001b[0m\u001b[91m╸\u001b[0m\u001b[90m━━━━━━━━━━━━━━━━━━━━━━━━━━━━━━━━━\u001b[0m \u001b[32m0.3/1.6 MB\u001b[0m \u001b[31m7.8 MB/s\u001b[0m eta \u001b[36m0:00:01\u001b[0m\r",
      "\u001b[2K   \u001b[91m━━━━━━━━━━━━━━━━━━━━━━━━━━━━━━━━━━━━━━━\u001b[0m\u001b[91m╸\u001b[0m \u001b[32m1.6/1.6 MB\u001b[0m \u001b[31m24.1 MB/s\u001b[0m eta \u001b[36m0:00:01\u001b[0m\r",
      "\u001b[2K   \u001b[91m━━━━━━━━━━━━━━━━━━━━━━━━━━━━━━━━━━━━━━━\u001b[0m\u001b[91m╸\u001b[0m \u001b[32m1.6/1.6 MB\u001b[0m \u001b[31m24.1 MB/s\u001b[0m eta \u001b[36m0:00:01\u001b[0m\r",
      "\u001b[2K   \u001b[90m━━━━━━━━━━━━━━━━━━━━━━━━━━━━━━━━━━━━━━━━\u001b[0m \u001b[32m1.6/1.6 MB\u001b[0m \u001b[31m12.8 MB/s\u001b[0m eta \u001b[36m0:00:00\u001b[0m\n",
      "\u001b[?25h"
     ]
    }
   ],
   "source": [
    "# Install necessary libraries\n",
    "!pip install earthengine-api geemap folium --quiet\n",
    "\n",
    "import ee\n",
    "import geemap\n",
    "import folium"
   ]
  },
  {
   "cell_type": "code",
   "execution_count": null,
   "metadata": {
    "colab": {
     "base_uri": "https://localhost:8080/",
     "height": 17
    },
    "executionInfo": {
     "elapsed": 34198,
     "status": "ok",
     "timestamp": 1749250914478,
     "user": {
      "displayName": "Nelkon Gyamfi",
      "userId": "06806577076404671243"
     },
     "user_tz": 0
    },
    "id": "veiTvXMOXhOX",
    "outputId": "e003e4c7-ab93-4acf-fd90-3598923b3375"
   },
   "outputs": [
    {
     "data": {
      "text/html": [
       "\n",
       "            <style>\n",
       "                .geemap-dark {\n",
       "                    --jp-widgets-color: white;\n",
       "                    --jp-widgets-label-color: white;\n",
       "                    --jp-ui-font-color1: white;\n",
       "                    --jp-layout-color2: #454545;\n",
       "                    background-color: #383838;\n",
       "                }\n",
       "\n",
       "                .geemap-dark .jupyter-button {\n",
       "                    --jp-layout-color3: #383838;\n",
       "                }\n",
       "\n",
       "                .geemap-colab {\n",
       "                    background-color: var(--colab-primary-surface-color, white);\n",
       "                }\n",
       "\n",
       "                .geemap-colab .jupyter-button {\n",
       "                    --jp-layout-color3: var(--colab-primary-surface-color, white);\n",
       "                }\n",
       "            </style>\n",
       "            "
      ],
      "text/plain": [
       "<IPython.core.display.HTML object>"
      ]
     },
     "metadata": {},
     "output_type": "display_data"
    }
   ],
   "source": [
    "# Authenticate with Google Earth Engine\n",
    "ee.Authenticate()\n",
    "# Initialize Earth Engine with your project ID\n",
    "ee.Initialize(project='ee-kgyamfi')"
   ]
  },
  {
   "cell_type": "code",
   "execution_count": null,
   "metadata": {
    "colab": {
     "base_uri": "https://localhost:8080/",
     "height": 138
    },
    "executionInfo": {
     "elapsed": 54,
     "status": "ok",
     "timestamp": 1749251371428,
     "user": {
      "displayName": "Nelkon Gyamfi",
      "userId": "06806577076404671243"
     },
     "user_tz": 0
    },
    "id": "4KiGz_xYXl4T",
    "outputId": "88fbea7b-9397-4d92-fd88-07856300e2d5"
   },
   "outputs": [
    {
     "data": {
      "text/html": [
       "\n",
       "            <style>\n",
       "                .geemap-dark {\n",
       "                    --jp-widgets-color: white;\n",
       "                    --jp-widgets-label-color: white;\n",
       "                    --jp-ui-font-color1: white;\n",
       "                    --jp-layout-color2: #454545;\n",
       "                    background-color: #383838;\n",
       "                }\n",
       "\n",
       "                .geemap-dark .jupyter-button {\n",
       "                    --jp-layout-color3: #383838;\n",
       "                }\n",
       "\n",
       "                .geemap-colab {\n",
       "                    background-color: var(--colab-primary-surface-color, white);\n",
       "                }\n",
       "\n",
       "                .geemap-colab .jupyter-button {\n",
       "                    --jp-layout-color3: var(--colab-primary-surface-color, white);\n",
       "                }\n",
       "            </style>\n",
       "            "
      ],
      "text/plain": [
       "<IPython.core.display.HTML object>"
      ]
     },
     "metadata": {},
     "output_type": "display_data"
    },
    {
     "name": "stderr",
     "output_type": "stream",
     "text": [
      "/usr/local/lib/python3.11/dist-packages/ee/deprecation.py:207: DeprecationWarning: \n",
      "\n",
      "Attention required for UMD/hansen/global_forest_change_2023_v1_11! You are using a deprecated asset.\n",
      "To make sure your code keeps working, please update it.\n",
      "Learn more: https://developers.google.com/earth-engine/datasets/catalog/UMD_hansen_global_forest_change_2023_v1_11\n",
      "\n",
      "  warnings.warn(warning, category=DeprecationWarning)\n"
     ]
    }
   ],
   "source": [
    "# Define Polygons and Load Hansen GFC Image\n",
    "\n",
    "# Load asset and GFC image\n",
    "polygons = ee.FeatureCollection(\"projects/ee-kgyamfi/assets/over4hpoly\")\n",
    "gfc_image = ee.Image(\"UMD/hansen/global_forest_change_2023_v1_11\")"
   ]
  },
  {
   "cell_type": "code",
   "execution_count": null,
   "metadata": {
    "colab": {
     "base_uri": "https://localhost:8080/",
     "height": 17
    },
    "executionInfo": {
     "elapsed": 47,
     "status": "ok",
     "timestamp": 1749251600145,
     "user": {
      "displayName": "Nelkon Gyamfi",
      "userId": "06806577076404671243"
     },
     "user_tz": 0
    },
    "id": "fHISMpeYYNa8",
    "outputId": "3098004c-80ca-4ad4-ffdb-5dc4cb880f28"
   },
   "outputs": [
    {
     "data": {
      "text/html": [
       "\n",
       "            <style>\n",
       "                .geemap-dark {\n",
       "                    --jp-widgets-color: white;\n",
       "                    --jp-widgets-label-color: white;\n",
       "                    --jp-ui-font-color1: white;\n",
       "                    --jp-layout-color2: #454545;\n",
       "                    background-color: #383838;\n",
       "                }\n",
       "\n",
       "                .geemap-dark .jupyter-button {\n",
       "                    --jp-layout-color3: #383838;\n",
       "                }\n",
       "\n",
       "                .geemap-colab {\n",
       "                    background-color: var(--colab-primary-surface-color, white);\n",
       "                }\n",
       "\n",
       "                .geemap-colab .jupyter-button {\n",
       "                    --jp-layout-color3: var(--colab-primary-surface-color, white);\n",
       "                }\n",
       "            </style>\n",
       "            "
      ],
      "text/plain": [
       "<IPython.core.display.HTML object>"
      ]
     },
     "metadata": {},
     "output_type": "display_data"
    }
   ],
   "source": [
    " # Forest Loss Processing from 2021–2023\n",
    "\n",
    "start_year = 2021\n",
    "end_year = 2023\n",
    "\n",
    "combined_loss_image = ee.Image(0)  # Initialize empty image\n",
    "\n",
    "# Loop through years\n",
    "for year in range(start_year, end_year + 1):\n",
    "    loss_year_image = gfc_image.select('lossyear').eq(year - 2000)  # GFC 'lossyear' is 1-based from 2001\n",
    "\n",
    "    # Convert pixel loss to area in hectares\n",
    "    loss_area_sqm = loss_year_image.multiply(ee.Image.pixelArea())\n",
    "    loss_area_ha = loss_area_sqm.divide(10000).clip(polygons)\n",
    "\n",
    "    combined_loss_image = combined_loss_image.add(loss_area_ha)\n",
    "\n",
    "    # Visualize yearly forest loss (in red)\n",
    "    vis_params = {\"min\": 0, \"max\": 100, \"palette\": [\"FF0000\"]}\n",
    "    layer_name = f\"Forest Loss {year}\"\n",
    "   # Map.addLayer(loss_area_ha, vis_params, layer_name)"
   ]
  },
  {
   "cell_type": "code",
   "execution_count": null,
   "metadata": {
    "colab": {
     "base_uri": "https://localhost:8080/",
     "height": 17
    },
    "executionInfo": {
     "elapsed": 41,
     "status": "ok",
     "timestamp": 1749251658682,
     "user": {
      "displayName": "Nelkon Gyamfi",
      "userId": "06806577076404671243"
     },
     "user_tz": 0
    },
    "id": "Og5rpaVeYZn0",
    "outputId": "e6d8ef09-40f0-4087-affb-3934d9a804d0"
   },
   "outputs": [
    {
     "data": {
      "text/html": [
       "\n",
       "            <style>\n",
       "                .geemap-dark {\n",
       "                    --jp-widgets-color: white;\n",
       "                    --jp-widgets-label-color: white;\n",
       "                    --jp-ui-font-color1: white;\n",
       "                    --jp-layout-color2: #454545;\n",
       "                    background-color: #383838;\n",
       "                }\n",
       "\n",
       "                .geemap-dark .jupyter-button {\n",
       "                    --jp-layout-color3: #383838;\n",
       "                }\n",
       "\n",
       "                .geemap-colab {\n",
       "                    background-color: var(--colab-primary-surface-color, white);\n",
       "                }\n",
       "\n",
       "                .geemap-colab .jupyter-button {\n",
       "                    --jp-layout-color3: var(--colab-primary-surface-color, white);\n",
       "                }\n",
       "            </style>\n",
       "            "
      ],
      "text/plain": [
       "<IPython.core.display.HTML object>"
      ]
     },
     "metadata": {},
     "output_type": "display_data"
    }
   ],
   "source": [
    "# Compute Forest Loss by Polygon (Exportable Table)\n",
    "\n",
    "# Use 'loss' image + lossyear band for per-feature reduction\n",
    "loss_image = gfc_image.select('loss')\n",
    "loss_area = loss_image.multiply(ee.Image.pixelArea()).divide(10000).clip(polygons)\n",
    "\n",
    "loss_year_image = gfc_image.select('lossyear')\n",
    "\n",
    "loss_by_year = loss_area.addBands(loss_year_image)\n",
    "\n",
    "# Reduce per polygon\n",
    "loss_per_polygon = loss_by_year.reduceRegions(\n",
    "    collection=polygons,\n",
    "    reducer=ee.Reducer.sum(),\n",
    "    scale=30\n",
    ")"
   ]
  },
  {
   "cell_type": "code",
   "execution_count": null,
   "metadata": {
    "colab": {
     "base_uri": "https://localhost:8080/",
     "height": 17
    },
    "executionInfo": {
     "elapsed": 653,
     "status": "ok",
     "timestamp": 1749251670424,
     "user": {
      "displayName": "Nelkon Gyamfi",
      "userId": "06806577076404671243"
     },
     "user_tz": 0
    },
    "id": "MsTt-DLXYlBK",
    "outputId": "f28caa87-8891-43e1-f600-1c8a69496f60"
   },
   "outputs": [
    {
     "data": {
      "text/html": [
       "\n",
       "            <style>\n",
       "                .geemap-dark {\n",
       "                    --jp-widgets-color: white;\n",
       "                    --jp-widgets-label-color: white;\n",
       "                    --jp-ui-font-color1: white;\n",
       "                    --jp-layout-color2: #454545;\n",
       "                    background-color: #383838;\n",
       "                }\n",
       "\n",
       "                .geemap-dark .jupyter-button {\n",
       "                    --jp-layout-color3: #383838;\n",
       "                }\n",
       "\n",
       "                .geemap-colab {\n",
       "                    background-color: var(--colab-primary-surface-color, white);\n",
       "                }\n",
       "\n",
       "                .geemap-colab .jupyter-button {\n",
       "                    --jp-layout-color3: var(--colab-primary-surface-color, white);\n",
       "                }\n",
       "            </style>\n",
       "            "
      ],
      "text/plain": [
       "<IPython.core.display.HTML object>"
      ]
     },
     "metadata": {},
     "output_type": "display_data"
    }
   ],
   "source": [
    "task = ee.batch.Export.table.toDrive(\n",
    "    collection=loss_per_polygon,\n",
    "    description='forest_loss_per_polygon_21',\n",
    "    folder='GEE_exports',\n",
    "    fileFormat='CSV'\n",
    ")\n",
    "task.start()\n"
   ]
  },
  {
   "cell_type": "code",
   "execution_count": null,
   "metadata": {
    "colab": {
     "base_uri": "https://localhost:8080/",
     "height": 621,
     "referenced_widgets": [
      "22f9ee93242141cfa547f37ba7e04fff",
      "d39ec825adc94824a864956e92f0c474",
      "3dd61288e2b84d2499b3736f36c3dad4",
      "46753aec94ab456fb23a853fedf89080",
      "d79329c12d0449908a062df6fd9030ad",
      "7ddf9922465746cdb1a56fb8e1ad8a16",
      "3a3aad7fdcbe476f9db88d6e4e96f034",
      "46adfdc9106843d1acc0a43810893641",
      "30c51b2f5e914b429d867a835f9e49c2",
      "303817595198498489d1c42f19884964",
      "e7cc9230cc904dbeab41d9f9d4d32569",
      "569fc7d31fc44f93b73663f6f3dc2fb3",
      "68491ecc810949c187a4f2a95dc7a18f",
      "7c0ab20b184240449ad5fc89bf22530d",
      "4dc909ee8a4149b780cd5c0455cf762e",
      "04d39c94a36d4fab96a9f835a8f96523",
      "781002bcd4014d27bebd1aaa6f883c0b",
      "355f2368b2404f9a86a0c0f51c6c6b1a",
      "ba75bfd01cff4300ad5253fed422cca6",
      "4e3578120bc5448a97acfecb9d943604",
      "23256f6888f9442192da0da28c2be280",
      "7f1d2c1a49d54be4b733f3f867e72c10",
      "1169930580014e8b86852d1705688050",
      "eabbe412e98f48d48083e75154153a03",
      "64831cdefaf84a48afbf5395d1219be0",
      "1da4e023d4cd4b8495db2590034c0eca",
      "89fed5520c8a462d860b66aaab1d6988",
      "439b920f8ae04809a14ce9179669db6a",
      "548a942b646b42f8ade016e75814c98b",
      "d6a4a1fe12af4851acbe41d5b1ac7f80",
      "422b2e8b345d4930995e8b93689f7f84",
      "4822dda8ce7a4afb96c53aa9b05cb1c1",
      "8eb148854eec4781bf7d972645a57714",
      "5161e14004d946718db4dcbc736cdf7b",
      "879051abb770479aa02dd8e7af0829b2",
      "9702fad9dfbe4f47ae2fccb7ecc7d84d",
      "84b5646b647e4928bc80ac1c6043681d",
      "92160468e4bd4474a9e5f3c95a93d197",
      "cbb4474e88b647f49d66247a965b0aa9",
      "21a9fea4b1ea4549984b63f22e5655f2",
      "9959fe9e68674149adb30a8c8ff0a97d",
      "fc51230107a14e12aec0bf93eacfccbf",
      "064ec9fdda634ef5a7b54297ff885c20",
      "6082074d8e204306b404e20d330ee463",
      "0faeff052345445f89639f2e44362249",
      "a8915916d3bf49c9a05305ac8665d131",
      "10ed9c574f984a56a1b9436b98cd8a40",
      "ff98b1cbf7a74ee48f7ab3342fd8bad2",
      "eb3fafb025a44e38a18fbac16212cadf",
      "cb5787e1c7d34f409b413ca5f93b47d8",
      "71202bd6bcab4c8e9fa7a4c18b1099f4",
      "8b502a544a5b4dd283d6667d6393c7fe",
      "39d1e6d99d5c4ed7a902d03a90116603",
      "d54e9ebd8af4432ba037fd77e1edf77a",
      "e9c3de8ff27c4c979b3745e4bfcb3471",
      "7433e50953d4419c81c1eb489f0dd337",
      "d34298c88b94446eb20de72f442784fc",
      "842ae34767f2459885147033a617cbb8",
      "008d8e46ef9846ae8a6bd5246294a74b",
      "0080b3f0c1494cf4b1e117665973b2ae",
      "3e37fd95d4b3406b98a48a92294b1a4e",
      "acca0b62737d41d184ac20bcd63fb914",
      "a30da80f1e9f477189ccf4255d77b27d",
      "738ff9e475424541906ff110a8fb3a48",
      "7a9cecfd4b4840e69b7155da153903c2",
      "7eac727d9d9f44c0a17850d37e64a019",
      "9c2fbaca917247829522c4b22264eb62",
      "a173d17465a54876ae2c4e2ccfe4dd88",
      "351233d4c4b74be7817da72ebecf5667",
      "5bcb0b67fa0f4e73ba4c554bcee56a3e",
      "9898d84fd56f421aaeb400da55f6a473",
      "64cfa3460fa741eeaa2ff4d5013f894b",
      "1b5ab14e245645b6a4928e7111e0e52e",
      "d0fddbe94199458b95ae15af06c23a3e",
      "f27f372396ce4e7b8c37fe7e39921867",
      "cc37dc0fe02f49d2af76631ba837c06e",
      "57fd851a3cf4409faf464bd24721152c",
      "3cdd65d31a2d4af99a512faddefa16ff",
      "ecabce6866a441b8a14767962601decb",
      "3ca5f0cbfa1a4984b439281465105f40",
      "d0ca2b9dc2d243e2add7ec966ccb08fb",
      "0e13a5c626e24c86ba756fd120049e91",
      "5666c1525b814f6baeca260af7136ede",
      "0cd099cf2c264624b1ad4d5138461f61",
      "664ef401f6094fc38295e87ebcdff199",
      "90b5d289a3204f8ca2f20cb9618fbacc",
      "e3fa11e3a65e451e9db967f062c1beb4",
      "f4adef7e570c4d4eb371ebf451e56b6d",
      "2b2ca6eb0c0b43968b40e9e1d94a8869",
      "8d9533f1166f4fb79bfe43ae8c9ef5ee"
     ]
    },
    "executionInfo": {
     "elapsed": 3168,
     "status": "ok",
     "timestamp": 1749251714660,
     "user": {
      "displayName": "Nelkon Gyamfi",
      "userId": "06806577076404671243"
     },
     "user_tz": 0
    },
    "id": "_6mNh3iRY248",
    "outputId": "bc9adc97-0b38-49e5-bd6f-1be354196bc2"
   },
   "outputs": [
    {
     "data": {
      "text/html": [
       "\n",
       "            <style>\n",
       "                .geemap-dark {\n",
       "                    --jp-widgets-color: white;\n",
       "                    --jp-widgets-label-color: white;\n",
       "                    --jp-ui-font-color1: white;\n",
       "                    --jp-layout-color2: #454545;\n",
       "                    background-color: #383838;\n",
       "                }\n",
       "\n",
       "                .geemap-dark .jupyter-button {\n",
       "                    --jp-layout-color3: #383838;\n",
       "                }\n",
       "\n",
       "                .geemap-colab {\n",
       "                    background-color: var(--colab-primary-surface-color, white);\n",
       "                }\n",
       "\n",
       "                .geemap-colab .jupyter-button {\n",
       "                    --jp-layout-color3: var(--colab-primary-surface-color, white);\n",
       "                }\n",
       "            </style>\n",
       "            "
      ],
      "text/plain": [
       "<IPython.core.display.HTML object>"
      ]
     },
     "metadata": {},
     "output_type": "display_data"
    },
    {
     "data": {
      "application/vnd.jupyter.widget-view+json": {
       "model_id": "22f9ee93242141cfa547f37ba7e04fff",
       "version_major": 2,
       "version_minor": 0
      },
      "text/plain": [
       "Map(center=[6.8648228800036435, -2.6979612175676193], controls=(WidgetControl(options=['position', 'transparen…"
      ]
     },
     "metadata": {
      "application/vnd.jupyter.widget-view+json": {
       "colab": {
        "custom_widget_manager": {
         "url": "https://ssl.gstatic.com/colaboratory-static/widgets/colab-cdn-widget-manager/2b70e893a8ba7c0f/manager.min.js"
        }
       }
      }
     },
     "output_type": "display_data"
    }
   ],
   "source": [
    "Map = geemap.Map(center=[0, 0], zoom=6)\n",
    "Map.centerObject(polygons, 8)\n",
    "Map.addLayer(polygons, {}, \"Forest Polygons\")\n",
    "Map.addLayer(combined_loss_image, {\"min\": 0, \"max\": 300, \"palette\": [\"white\", \"red\"]}, \"Combined Forest Loss (2021–2023)\")\n",
    "Map\n"
   ]
  },
  {
   "cell_type": "code",
   "execution_count": null,
   "metadata": {
    "id": "l311G2LRhkxU"
   },
   "outputs": [],
   "source": []
  },
  {
   "cell_type": "code",
   "execution_count": null,
   "metadata": {
    "id": "_SNnv4lTY_XF"
   },
   "outputs": [],
   "source": []
  },
  {
   "cell_type": "code",
   "execution_count": null,
   "metadata": {
    "id": "_FFFHVKJZOcB"
   },
   "outputs": [],
   "source": []
  },
  {
   "cell_type": "code",
   "execution_count": null,
   "metadata": {
    "id": "WDN0jJHTZQ-6"
   },
   "outputs": [],
   "source": [
    "\n"
   ]
  },
  {
   "cell_type": "code",
   "execution_count": null,
   "metadata": {
    "id": "M1j5viveZV9A"
   },
   "outputs": [],
   "source": []
  },
  {
   "cell_type": "code",
   "execution_count": null,
   "metadata": {
    "id": "fLiWPHwsZtck"
   },
   "outputs": [],
   "source": []
  },
  {
   "cell_type": "code",
   "execution_count": null,
   "metadata": {
    "id": "zuUpDK4IZu_p"
   },
   "outputs": [],
   "source": []
  },
  {
   "cell_type": "code",
   "execution_count": null,
   "metadata": {
    "id": "1N7OB7AQZ0tL"
   },
   "outputs": [],
   "source": []
  },
  {
   "cell_type": "code",
   "execution_count": null,
   "metadata": {
    "id": "JuzF9KxkZ6TZ"
   },
   "outputs": [],
   "source": []
  },
  {
   "cell_type": "code",
   "execution_count": null,
   "metadata": {
    "id": "MjL9BA-kZ-gi"
   },
   "outputs": [],
   "source": []
  },
  {
   "cell_type": "code",
   "execution_count": null,
   "metadata": {
    "id": "nzu50vVdaH1k"
   },
   "outputs": [],
   "source": []
  },
  {
   "cell_type": "code",
   "execution_count": null,
   "metadata": {
    "id": "w3g_4DQHaI46"
   },
   "outputs": [],
   "source": []
  }
 ],
 "metadata": {
  "colab": {
   "authorship_tag": "ABX9TyNd4xo995KQ8mUCAtCCbL+m",
   "provenance": [
    {
     "file_id": "16tNZQ8JQvzTI9e3nttb_8aiDGoYTgj6c",
     "timestamp": 1749316546627
    }
   ]
  },
  "kernelspec": {
   "display_name": "Python 3",
   "name": "python3"
  },
  "language_info": {
   "name": "python"
  }
 },
 "nbformat": 4,
 "nbformat_minor": 0
}
